{
 "cells": [
  {
   "cell_type": "code",
   "execution_count": 1,
   "metadata": {},
   "outputs": [],
   "source": [
    "import boto3\n",
    "import configparser\n",
    "import time\n",
    "import glob\n",
    "import os\n",
    "import pandas as pd\n",
    "import json\n",
    "import pyarrow.parquet as pq"
   ]
  },
  {
   "cell_type": "code",
   "execution_count": 2,
   "metadata": {},
   "outputs": [
    {
     "data": {
      "text/html": [
       "<div>\n",
       "<style scoped>\n",
       "    .dataframe tbody tr th:only-of-type {\n",
       "        vertical-align: middle;\n",
       "    }\n",
       "\n",
       "    .dataframe tbody tr th {\n",
       "        vertical-align: top;\n",
       "    }\n",
       "\n",
       "    .dataframe thead th {\n",
       "        text-align: right;\n",
       "    }\n",
       "</style>\n",
       "<table border=\"1\" class=\"dataframe\">\n",
       "  <thead>\n",
       "    <tr style=\"text-align: right;\">\n",
       "      <th></th>\n",
       "      <th>Param</th>\n",
       "      <th>Value</th>\n",
       "    </tr>\n",
       "  </thead>\n",
       "  <tbody>\n",
       "    <tr>\n",
       "      <th>0</th>\n",
       "      <td>DWH_CLUSTER_TYPE</td>\n",
       "      <td>single-node</td>\n",
       "    </tr>\n",
       "    <tr>\n",
       "      <th>1</th>\n",
       "      <td>DWH_NUM_NODES</td>\n",
       "      <td>1</td>\n",
       "    </tr>\n",
       "    <tr>\n",
       "      <th>2</th>\n",
       "      <td>DWH_NODE_TYPE</td>\n",
       "      <td>t2.micro</td>\n",
       "    </tr>\n",
       "    <tr>\n",
       "      <th>3</th>\n",
       "      <td>DWH_CLUSTER_IDENTIFIER</td>\n",
       "      <td>dwhCluster</td>\n",
       "    </tr>\n",
       "    <tr>\n",
       "      <th>4</th>\n",
       "      <td>DWH_DB</td>\n",
       "      <td>dwh</td>\n",
       "    </tr>\n",
       "    <tr>\n",
       "      <th>5</th>\n",
       "      <td>DWH_DB_USER</td>\n",
       "      <td>dwhuser</td>\n",
       "    </tr>\n",
       "    <tr>\n",
       "      <th>6</th>\n",
       "      <td>DWH_DB_PASSWORD</td>\n",
       "      <td>Passw0rd</td>\n",
       "    </tr>\n",
       "    <tr>\n",
       "      <th>7</th>\n",
       "      <td>DWH_PORT</td>\n",
       "      <td>5439</td>\n",
       "    </tr>\n",
       "    <tr>\n",
       "      <th>8</th>\n",
       "      <td>DWH_IAM_ROLE_NAME</td>\n",
       "      <td>test_iam_role</td>\n",
       "    </tr>\n",
       "  </tbody>\n",
       "</table>\n",
       "</div>"
      ],
      "text/plain": [
       "                    Param          Value\n",
       "0        DWH_CLUSTER_TYPE    single-node\n",
       "1           DWH_NUM_NODES              1\n",
       "2           DWH_NODE_TYPE       t2.micro\n",
       "3  DWH_CLUSTER_IDENTIFIER     dwhCluster\n",
       "4                  DWH_DB            dwh\n",
       "5             DWH_DB_USER        dwhuser\n",
       "6         DWH_DB_PASSWORD       Passw0rd\n",
       "7                DWH_PORT           5439\n",
       "8       DWH_IAM_ROLE_NAME  test_iam_role"
      ]
     },
     "execution_count": 2,
     "metadata": {},
     "output_type": "execute_result"
    }
   ],
   "source": [
    "config = configparser.ConfigParser()\n",
    "config.read('dwh.cfg')\n",
    "KEY = config['AWS']['KEY']\n",
    "SECRET = config['AWS']['SECRET']\n",
    "REGION_NAME = config['AWS']['REGION_NAME']\n",
    "\n",
    "DWH_CLUSTER_TYPE = config['DWH']['DWH_CLUSTER_TYPE']\n",
    "DWH_NUM_NODES = config['DWH']['DWH_NUM_NODES']\n",
    "DWH_NODE_TYPE = config['DWH']['DWH_NODE_TYPE']\n",
    "DWH_IAM_ROLE_NAME = config['DWH']['DWH_IAM_ROLE_NAME']\n",
    "DWH_CLUSTER_IDENTIFIER = config['DWH']['DWH_CLUSTER_IDENTIFIER']\n",
    "DWH_DB = config['DWH']['DWH_DB']\n",
    "DWH_DB_USER = config['DWH']['DWH_DB_USER']\n",
    "DWH_DB_PASSWORD = config['DWH']['DWH_DB_PASSWORD']\n",
    "DWH_PORT = config['DWH']['DWH_PORT']\n",
    "\n",
    "YELLOW_TRIP_DATA = config['PATH']['YELLOW_TRIP_DATA']\n",
    "GREEN_TRIP_DATA = config['PATH']['GREEN_TRIP_DATA']\n",
    "FHVHV_TRIP_DATA = config['PATH']['FHVHV_TRIP_DATA']\n",
    "FHVHV_TRIP_DATA = config['PATH']['FHVHV_TRIP_DATA']\n",
    "TAXI_ZONE = config['PATH']['TAXI_ZONE']\n",
    "\n",
    "pd.DataFrame({\"Param\":\n",
    "              [\"DWH_CLUSTER_TYPE\", \"DWH_NUM_NODES\", \"DWH_NODE_TYPE\", \"DWH_CLUSTER_IDENTIFIER\", \"DWH_DB\", \"DWH_DB_USER\", \"DWH_DB_PASSWORD\", \"DWH_PORT\", \"DWH_IAM_ROLE_NAME\"],\n",
    "              \"Value\":\n",
    "            [DWH_CLUSTER_TYPE, DWH_NUM_NODES, DWH_NODE_TYPE, DWH_CLUSTER_IDENTIFIER, DWH_DB, DWH_DB_USER, DWH_DB_PASSWORD, DWH_PORT, DWH_IAM_ROLE_NAME]\n",
    "})"
   ]
  },
  {
   "cell_type": "code",
   "execution_count": null,
   "metadata": {},
   "outputs": [
    {
     "name": "stdout",
     "output_type": "stream",
     "text": [
      "ny-taxi-bucket-s3-1744458153689776500\n"
     ]
    }
   ],
   "source": [
    "s3  = boto3.client('s3',aws_access_key_id = KEY, aws_secret_access_key = SECRET, region_name = REGION_NAME )\n",
    "response = s3.list_buckets()\n",
    "print(response['Buckets'][0]['Name'])"
   ]
  },
  {
   "cell_type": "code",
   "execution_count": 39,
   "metadata": {},
   "outputs": [
    {
     "name": "stdout",
     "output_type": "stream",
     "text": [
      "ny-taxi-bucket-s3-1744493321867458900\n",
      "ny-taxi-bucket-s3-1744493321867458900\n"
     ]
    }
   ],
   "source": [
    "tt = time.time_ns()\n",
    "prefix = f'ny-taxi-bucket-s3-{tt}'\n",
    "bucket_names = {prefix: 'unprocessed_reports, rides, locations'}\n",
    "for k in bucket_names:\n",
    "  print(prefix)\n",
    "  print(k)"
   ]
  },
  {
   "cell_type": "code",
   "execution_count": 40,
   "metadata": {},
   "outputs": [
    {
     "name": "stdout",
     "output_type": "stream",
     "text": [
      "S3 buckets created\n"
     ]
    }
   ],
   "source": [
    "def create_s3_bucket(s3, b, folders):\n",
    "  s3.create_bucket(Bucket = b, CreateBucketConfiguration={'LocationConstraint': REGION_NAME})\n",
    "  if folders !=  ' ':\n",
    "    fls = folders.split(',')\n",
    "    for f in fls:\n",
    "      s3.put_object(Bucket = b, Body = ' ', Key = f + '/')\n",
    "\n",
    "tt = time.time_ns()\n",
    "bucket_names = f'ny-taxi-bucket-s3-{tt}'\n",
    "objects = 'unprocessed_reports, rides, locations'\n",
    "create_s3_bucket(s3, bucket_names, objects)\n",
    "print('S3 buckets created')"
   ]
  },
  {
   "cell_type": "code",
   "execution_count": 41,
   "metadata": {},
   "outputs": [
    {
     "name": "stdout",
     "output_type": "stream",
     "text": [
      "Uploading the local files to ny-taxi-bucket-s3 AWS S3 bucket...\n",
      "upload_file: test_data.csv\n",
      "Files uploaded to ny-taxi-bucket-s3-1744493321881726400 AWS S3 bucket\n",
      "ID: 1744493321881726400\n"
     ]
    }
   ],
   "source": [
    "def upload_files_to_s3(s3, file, b, objects):\n",
    "  key = objects + '/' + os.path.basename(file)\n",
    "  response = s3.upload_file(file, b, key, ExtraArgs=None)\n",
    "  return response\n",
    "\n",
    "print('Uploading the local files to ny-taxi-bucket-s3 AWS S3 bucket...')\n",
    "file = 'test_data.csv'\n",
    "print('upload_file:', file)\n",
    "upload_files_to_s3(s3, file, bucket_names, 'unprocessed_reports')\n",
    "print(f'Files uploaded to {bucket_names} AWS S3 bucket')\n",
    "print(f'ID: {tt}')"
   ]
  }
 ],
 "metadata": {
  "kernelspec": {
   "display_name": "Python 3",
   "language": "python",
   "name": "python3"
  },
  "language_info": {
   "codemirror_mode": {
    "name": "ipython",
    "version": 3
   },
   "file_extension": ".py",
   "mimetype": "text/x-python",
   "name": "python",
   "nbconvert_exporter": "python",
   "pygments_lexer": "ipython3",
   "version": "3.12.6"
  }
 },
 "nbformat": 4,
 "nbformat_minor": 2
}
